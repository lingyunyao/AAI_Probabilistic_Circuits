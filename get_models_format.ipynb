{
 "cells": [
  {
   "cell_type": "code",
   "execution_count": 12,
   "metadata": {},
   "outputs": [],
   "source": [
    "import re\n",
    "\n",
    "def modify_circuit_spn(model):\n",
    "    def reformat_line(line):\n",
    "        product_match = re.match(r'(ProductNode_.*?)(=productnodevalue\\()(.*?)(,\\s*?)(.*?)(\\))', line)\n",
    "        sum_match = re.match(r'(SumNode_.*?)(=maxnodevalue\\()(.*?)(,\\s*?)(.*?)(\\))', line)\n",
    "\n",
    "        if product_match:\n",
    "            var_name, pre, arg1, comma, arg2, post = product_match.groups()\n",
    "            new_line = f\"{var_name},{var_name}_info{pre}{arg1},{arg1}_info{comma}{arg2},{arg2}_info, expWidth, sigWidth)\"\n",
    "            return new_line\n",
    "\n",
    "        elif sum_match:\n",
    "            var_name, pre, arg1, comma, arg2, post = sum_match.groups()\n",
    "            new_line = f\"{var_name},{var_name}_info{pre}{arg1},{arg1}_info{comma}{arg2},{arg2}_info, expWidth, sigWidth)\"\n",
    "            return new_line\n",
    "\n",
    "        else:\n",
    "            return line  # Return the line as-is if it doesn't match either pattern\n",
    "\n",
    "    with open('operations_'+str(model)+'.txt', 'r') as file:\n",
    "        circuit_lines = file.readlines()\n",
    "\n",
    "    modified_circuit_lines = []\n",
    "    for line in circuit_lines:\n",
    "        modified_line = reformat_line(line.strip())\n",
    "        modified_circuit_lines.append(modified_line)\n",
    "\n",
    " \n",
    "    with open('operations_'+str(model)+'_new.txt', 'w') as file:\n",
    "        non_empty_lines = [line for line in modified_circuit_lines if line.strip()]  # Remove empty or whitespace-only lines\n",
    "        for i, line in enumerate(non_empty_lines):\n",
    "            if i == len(non_empty_lines) - 1:  # Check if this is the last line\n",
    "                file.write(line)\n",
    "            else:\n",
    "                file.write(line + \"\\n\")\n",
    "\n",
    "    # Call the function to execute the modification\n",
    "modify_circuit_spn('nltcs')\n",
    "modify_circuit_spn('jester')\n",
    "modify_circuit_spn('dna')\n",
    "modify_circuit_spn('book')"
   ]
  },
  {
   "cell_type": "code",
   "execution_count": 13,
   "metadata": {},
   "outputs": [],
   "source": [
    "def modify_weights_spn(model):\n",
    "    with open('weights_'+str(model)+'.txt', 'r') as file:\n",
    "        lines = file.readlines()\n",
    "\n",
    "    # Prepare the new content\n",
    "    new_lines = []\n",
    "    for line in lines:\n",
    "        line = line.strip()\n",
    "        new_lines.append(line)\n",
    "        if \"weight\" in line:\n",
    "            new_line_info = f\"{line.split('=')[0]}_info=' '\"\n",
    "            new_lines.append(new_line_info)\n",
    "\n",
    "    # Write the updated content back to the same file\n",
    "    with open('weights_'+str(model)+'_new.txt', 'w') as file:\n",
    "        for line in new_lines:\n",
    "            file.write(f\"{line}\\n\")\n",
    "modify_weights_spn('nltcs')\n",
    "modify_weights_spn('jester')\n",
    "modify_weights_spn('dna')\n",
    "modify_weights_spn('book')"
   ]
  },
  {
   "cell_type": "code",
   "execution_count": null,
   "metadata": {},
   "outputs": [],
   "source": []
  }
 ],
 "metadata": {
  "kernelspec": {
   "display_name": "Python (module anaconda)",
   "language": "python",
   "name": "python3"
  },
  "language_info": {
   "codemirror_mode": {
    "name": "ipython",
    "version": 3
   },
   "file_extension": ".py",
   "mimetype": "text/x-python",
   "name": "python",
   "nbconvert_exporter": "python",
   "pygments_lexer": "ipython3",
   "version": "3.10.8"
  }
 },
 "nbformat": 4,
 "nbformat_minor": 4
}
